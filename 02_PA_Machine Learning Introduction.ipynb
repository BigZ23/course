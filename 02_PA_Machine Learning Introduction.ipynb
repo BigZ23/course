{
  "cells": [
    {
      "cell_type": "markdown",
      "metadata": {
        "id": "view-in-github",
        "colab_type": "text"
      },
      "source": [
        "<a href=\"https://colab.research.google.com/github/BigZ23/course/blob/assignment_2/02_PA_Machine%20Learning%20Introduction.ipynb\" target=\"_parent\"><img src=\"https://colab.research.google.com/assets/colab-badge.svg\" alt=\"Open In Colab\"/></a>"
      ]
    },
    {
      "cell_type": "markdown",
      "metadata": {
        "id": "aYCgUsfFgOGt"
      },
      "source": [
        "*Topics in Data Science 2 23/24*\n",
        "# Programming Assignment 2 - Predicting Video Game Sales"
      ]
    },
    {
      "cell_type": "markdown",
      "metadata": {
        "id": "_obWM4ZdgOGv"
      },
      "source": [
        "In this programming assignment you need to apply your new (or refreshed) machine learning knowledge. You will need to create a modeling pipeline training and evaluating a machine learning model build on several numeric as well as categorical features"
      ]
    },
    {
      "cell_type": "markdown",
      "metadata": {
        "id": "ExJzgdO_gOGv"
      },
      "source": [
        "## Introduction and Dataset\n",
        "\n",
        "You are provided with a dataset containing a list of video games with sales greater than 100.000 copies. Your task is to build a model predicting the yearly global sales (column ``Global_Sales``) of a video game leveraging the available features.\n",
        "\n",
        "To help you get started, the following blocks of code import the dataset using pandas:"
      ]
    },
    {
      "cell_type": "code",
      "execution_count": null,
      "metadata": {
        "id": "3IzG3uYKgOGw"
      },
      "outputs": [],
      "source": [
        "import pandas as pd"
      ]
    },
    {
      "cell_type": "code",
      "execution_count": null,
      "metadata": {
        "id": "0HCbDugEgOGw"
      },
      "outputs": [],
      "source": [
        "data_path = 'https://raw.githubusercontent.com/GuntherGust/tds2_data/main/data/video_game_sales.csv'\n",
        "game_sales_data = pd.read_csv(data_path)\n",
        "game_sales_data.head()"
      ]
    },
    {
      "cell_type": "markdown",
      "metadata": {
        "id": "OsYuOO1MgOGx"
      },
      "source": [
        "## Splitting the Dataset\n",
        "\n",
        "Before you can get started training a machine learning model you will have to split the dataframe into features and the target variable (try to use as many features as possible):"
      ]
    },
    {
      "cell_type": "code",
      "execution_count": 30,
      "metadata": {
        "id": "KoseVFuggOGx"
      },
      "outputs": [],
      "source": [
        "X = game_sales_data.drop(columns=['Global_Sales'])\n",
        "y = game_sales_data['Global_Sales']"
      ]
    },
    {
      "cell_type": "markdown",
      "metadata": {
        "id": "mFIqFgEFgOGx"
      },
      "source": [
        "Next, you will have to create a train-test split in order to be able to evaluate your models. Use 80\\% of the data for training and 20\\% for evaluation (take a look at the sklearn [documentation](https://scikit-learn.org/stable/modules/generated/sklearn.model_selection.train_test_split.html) to identify the relevant parameters):"
      ]
    },
    {
      "cell_type": "code",
      "execution_count": 32,
      "metadata": {
        "id": "_caXCI4cgOGy",
        "outputId": "67bbc94b-170a-48d6-8077-33aa10f090f5",
        "colab": {
          "base_uri": "https://localhost:8080/"
        }
      },
      "outputs": [
        {
          "output_type": "stream",
          "name": "stdout",
          "text": [
            "Shape of X_train: (13368, 9)\n",
            "Shape of X_test: (3343, 9)\n",
            "Shape of y_train: (13368,)\n",
            "Shape of y_test: (3343,)\n"
          ]
        }
      ],
      "source": [
        "from sklearn.model_selection import train_test_split\n",
        "X_train, X_test, y_train, y_test = train_test_split(X, y, test_size=0.2, random_state=42)\n",
        "\n",
        "print(\"Shape of X_train:\", X_train.shape)\n",
        "print(\"Shape of X_test:\", X_test.shape)\n",
        "print(\"Shape of y_train:\", y_train.shape)\n",
        "print(\"Shape of y_test:\", y_test.shape)"
      ]
    },
    {
      "cell_type": "markdown",
      "metadata": {
        "id": "RTBXKcApgOGy"
      },
      "source": [
        "## Removing missing values\n",
        "If you inspect your training data you will find that some of the variables have missing values. Use the ``SimpleImputer`` to replace missing values in numerical columns with the column mean and missing values in categorical columns with the most frequent value (take a look at the SimpleImputer [documentation](https://scikit-learn.org/stable/modules/generated/sklearn.impute.SimpleImputer.html) to identify the relevant parameters). You can decide if you want to use the simple or the advanced imputation strategy (or just try both)."
      ]
    },
    {
      "cell_type": "code",
      "execution_count": 33,
      "metadata": {
        "id": "NHqkJ-nRgOGz"
      },
      "outputs": [],
      "source": [
        "from sklearn.impute import SimpleImputer\n",
        "\n",
        "#help(SimpleImputer)\n",
        "\n",
        "# Imputer für numerische Werte\n",
        "numerical_imputer = SimpleImputer(strategy='mean')\n",
        "X_train[numerical_cols] = numerical_imputer.fit_transform(X_train[numerical_cols])\n",
        "X_test[numerical_cols] = numerical_imputer.transform(X_test[numerical_cols])\n",
        "\n",
        "# Imputer für kategoriale Werte\n",
        "categorical_imputer = SimpleImputer(strategy='most_frequent')\n",
        "X_train[categorical_cols] = categorical_imputer.fit_transform(X_train[categorical_cols])\n",
        "X_test[categorical_cols] = categorical_imputer.transform(X_test[categorical_cols])"
      ]
    },
    {
      "cell_type": "markdown",
      "metadata": {
        "id": "1WMMDm7igOG0"
      },
      "source": [
        "## Encoding categorical variables\n",
        "\n",
        "Prior to training your model you will have to encode the categorical variables. Inspect all categorical variables and use the ``OrdinalEncoder``, the ``OneHotEncoder`` or the ``TargetEncoder`` where appropriate. Remember that you have to combine the numerical as well as the ordinal encoded and the one hot encoded dataframes at the end."
      ]
    },
    {
      "cell_type": "code",
      "execution_count": 35,
      "metadata": {
        "id": "4cMsfyZvgOG0"
      },
      "outputs": [],
      "source": [
        "from sklearn.compose import ColumnTransformer\n",
        "from sklearn.pipeline import Pipeline\n",
        "from sklearn.impute import SimpleImputer\n",
        "from sklearn.preprocessing import OneHotEncoder\n",
        "\n",
        "# Liste der kategorialen Spalten\n",
        "categorical_cols = ['Platform', 'Genre', 'Rating']\n",
        "\n",
        "# Pipeline für die numerischen Spalten\n",
        "numerical_cols = X_train.select_dtypes(include=['float64', 'int64']).columns\n",
        "numerical_transformer = SimpleImputer(strategy='mean')\n",
        "\n",
        "# Pipeline für die kategorialen Spalten\n",
        "categorical_transformer = Pipeline(steps=[\n",
        "    ('imputer', SimpleImputer(strategy='most_frequent')),\n",
        "    ('onehot', OneHotEncoder(handle_unknown='ignore'))\n",
        "])\n",
        "\n",
        "# ColumnTransformer, Kombination der Transformationen\n",
        "preprocessor = ColumnTransformer(\n",
        "    transformers=[\n",
        "        ('num', numerical_transformer, numerical_cols),\n",
        "        ('cat', categorical_transformer, categorical_cols)\n",
        "    ])\n",
        "\n",
        "# Transformierung der Daten\n",
        "X_train_encoded = preprocessor.fit_transform(X_train)\n",
        "X_test_encoded = preprocessor.transform(X_test)"
      ]
    },
    {
      "cell_type": "markdown",
      "metadata": {
        "id": "jw1utLr4gOG0"
      },
      "source": [
        "## Train the Model\n",
        "\n",
        "Now our dataset should be ready and we can train a predictive model. Train a Decision Tree as well as a Random Forest and compare the in-sample as well as the out-of-sample performance of both models usinge the mean absolute error."
      ]
    },
    {
      "cell_type": "code",
      "execution_count": 36,
      "metadata": {
        "id": "q7Er1IyJgOG0",
        "outputId": "7898b432-6507-476a-ea51-5386d8af393b",
        "colab": {
          "base_uri": "https://localhost:8080/"
        }
      },
      "outputs": [
        {
          "output_type": "stream",
          "name": "stdout",
          "text": [
            "Decision Tree - Mean Absolute Error (Train): 0.1326754458397188\n",
            "Decision Tree - Mean Absolute Error (Test): 0.5882457302437696\n",
            "Random Forest - Mean Absolute Error (Train): 0.2269834888122577\n",
            "Random Forest - Mean Absolute Error (Test): 0.4764243116885032\n"
          ]
        }
      ],
      "source": [
        "from sklearn.tree import DecisionTreeRegressor\n",
        "from sklearn.ensemble import RandomForestRegressor\n",
        "from sklearn.metrics import mean_absolute_error\n",
        "\n",
        "# Modell Entscheidungsbaum\n",
        "decision_tree_model = DecisionTreeRegressor(random_state=42)\n",
        "decision_tree_model.fit(X_train_encoded, y_train)\n",
        "\n",
        "# Vorhersagen Entscheidungsbaum auf Trainingsdaten\n",
        "y_train_pred_dt = decision_tree_model.predict(X_train_encoded)\n",
        "\n",
        "# Vorhersagen Entscheidungsbaum auf Testdaten\n",
        "y_test_pred_dt = decision_tree_model.predict(X_test_encoded)\n",
        "\n",
        "# Modell Random Forest\n",
        "random_forest_model = RandomForestRegressor(random_state=42)\n",
        "random_forest_model.fit(X_train_encoded, y_train)\n",
        "\n",
        "# Vorhersagen Random Forest auf Trainingsdaten\n",
        "y_train_pred_rf = random_forest_model.predict(X_train_encoded)\n",
        "\n",
        "# Vorhersagen Random Forest auf Testdaten\n",
        "y_test_pred_rf = random_forest_model.predict(X_test_encoded)\n",
        "\n",
        "# Auswertung der Leistung mit dem Mean Absolute Error\n",
        "mae_train_dt = mean_absolute_error(y_train, y_train_pred_dt)\n",
        "mae_test_dt = mean_absolute_error(y_test, y_test_pred_dt)\n",
        "\n",
        "mae_train_rf = mean_absolute_error(y_train, y_train_pred_rf)\n",
        "mae_test_rf = mean_absolute_error(y_test, y_test_pred_rf)\n",
        "\n",
        "# Ergebnisse\n",
        "print(\"Decision Tree - Mean Absolute Error (Train):\", mae_train_dt)\n",
        "print(\"Decision Tree - Mean Absolute Error (Test):\", mae_test_dt)\n",
        "\n",
        "print(\"Random Forest - Mean Absolute Error (Train):\", mae_train_rf)\n",
        "print(\"Random Forest - Mean Absolute Error (Test):\", mae_test_rf)\n",
        "\n",
        "#Decision Tree - Mean Absolute Error (Train): 0.1327\n",
        "#Random Forest - Mean Absolute Error (Train): 0.2270\n",
        "\n",
        "#Decision Tree - Mean Absolute Error (Test):  0.5882\n",
        "#Random Forest - Mean Absolute Error (Test):  0.4764"
      ]
    },
    {
      "cell_type": "markdown",
      "metadata": {
        "id": "zt7_9NsxgOG1"
      },
      "source": [
        "## Improve the Model\n",
        "\n",
        "Having successfully trained a model, your next task is to improve its performance. Try different advanced feature engineering techniques and see if they are able to improve your model.  "
      ]
    },
    {
      "cell_type": "code",
      "execution_count": 37,
      "metadata": {
        "id": "FhwjCxCPgOG1",
        "outputId": "0697b4a2-2c48-4d42-8afc-94344e0d1428",
        "colab": {
          "base_uri": "https://localhost:8080/"
        }
      },
      "outputs": [
        {
          "output_type": "stream",
          "name": "stdout",
          "text": [
            "Decision Tree - Mean Absolute Error (Test, polynomial): 0.5553428704285776\n",
            "Random Forest - Mean Absolute Error (Test, polynomial): 0.4769390046801551\n"
          ]
        }
      ],
      "source": [
        "from sklearn.tree import DecisionTreeRegressor\n",
        "from sklearn.ensemble import RandomForestRegressor\n",
        "from sklearn.metrics import mean_absolute_error\n",
        "from sklearn.preprocessing import PolynomialFeatures\n",
        "from sklearn.preprocessing import StandardScaler\n",
        "from sklearn.pipeline import Pipeline\n",
        "\n",
        "# Polynomiale Features (Grad 2)\n",
        "poly = PolynomialFeatures(degree=2)\n",
        "X_train_poly = poly.fit_transform(X_train_encoded)\n",
        "X_test_poly = poly.transform(X_test_encoded)\n",
        "\n",
        "# Modell Entscheidungsbaum mit polynomiellen Daten\n",
        "decision_tree_model_poly = DecisionTreeRegressor(random_state=42)\n",
        "decision_tree_model_poly.fit(X_train_poly, y_train)\n",
        "\n",
        "# Vorhersagen Entscheidungsbaum auf polynomiellen Testdaten\n",
        "y_test_pred_dt_poly = decision_tree_model_poly.predict(X_test_poly)\n",
        "\n",
        "# Modell Random Forest mit polynomiellen Daten\n",
        "random_forest_model_poly = RandomForestRegressor(random_state=42)\n",
        "random_forest_model_poly.fit(X_train_poly, y_train)\n",
        "\n",
        "# Vorhersagen Random Forest auf polynomiellen Testdaten\n",
        "y_test_pred_rf_poly = random_forest_model_poly.predict(X_test_poly)\n",
        "\n",
        "# Auswertung der Leistung mit dem Mean Absolute Error für polynomielle Daten\n",
        "mae_test_dt_poly = mean_absolute_error(y_test, y_test_pred_dt_poly)\n",
        "mae_test_rf_poly = mean_absolute_error(y_test, y_test_pred_rf_poly)\n",
        "\n",
        "print(\"Decision Tree - Mean Absolute Error (Test, polynomial):\", mae_test_dt_poly)\n",
        "print(\"Random Forest - Mean Absolute Error (Test, polynomial):\", mae_test_rf_poly)\n",
        "\n",
        "#Decision Tree - Mean Absolute Error (Test, polynomial): 0.5553   -vs. 0.5882-\n",
        "#Random Forest - Mean Absolute Error (Test, polynomial): 0.4769   -vs. 0.4764-"
      ]
    },
    {
      "cell_type": "code",
      "source": [
        "from sklearn.preprocessing import StandardScaler\n",
        "\n",
        "scaler = StandardScaler(with_mean=False)\n",
        "X_train_scaled = scaler.fit_transform(X_train_encoded)\n",
        "X_test_scaled = scaler.transform(X_test_encoded)\n",
        "from sklearn.tree import DecisionTreeRegressor\n",
        "from sklearn.ensemble import RandomForestRegressor\n",
        "from sklearn.metrics import mean_absolute_error\n",
        "\n",
        "# Modell Entscheidungsbaum mit skalierten Daten\n",
        "decision_tree_model_scaled = DecisionTreeRegressor(random_state=42)\n",
        "decision_tree_model_scaled.fit(X_train_scaled, y_train)\n",
        "\n",
        "# Vorhersagen Entscheidungsbaum auf Testdaten mit skalierten Daten\n",
        "y_test_pred_dt_scaled = decision_tree_model_scaled.predict(X_test_scaled)\n",
        "\n",
        "# Modell Random Forest mit skalierten Daten\n",
        "random_forest_model_scaled = RandomForestRegressor(random_state=42)\n",
        "random_forest_model_scaled.fit(X_train_scaled, y_train)\n",
        "\n",
        "# Vorhersagen Random Forest auf Testdaten mit skalierten Daten\n",
        "y_test_pred_rf_scaled = random_forest_model_scaled.predict(X_test_scaled)\n",
        "\n",
        "# Auswertung der Leistung mit dem MAE für skalierte Daten\n",
        "mae_test_dt_scaled = mean_absolute_error(y_test, y_test_pred_dt_scaled)\n",
        "mae_test_rf_scaled = mean_absolute_error(y_test, y_test_pred_rf_scaled)\n",
        "\n",
        "# Ausgabe der Ergebnisse\n",
        "print(\"Decision Tree - Mean Absolute Error (Test, scaled):\", mae_test_dt_scaled)\n",
        "print(\"Random Forest - Mean Absolute Error (Test, scaled):\", mae_test_rf_scaled)\n",
        "\n",
        "# Decision Tree - Mean Absolute Error (Test, scaled): 0.5861    -vs. 0.5882-\n",
        "# Random Forest - Mean Absolute Error (Test, scaled): 0.4733    -vs. 0.4764-"
      ],
      "metadata": {
        "id": "FStcIvxEha_X",
        "outputId": "616bf0ed-14cc-4674-9149-69b38fd23a4b",
        "colab": {
          "base_uri": "https://localhost:8080/"
        }
      },
      "execution_count": 38,
      "outputs": [
        {
          "output_type": "stream",
          "name": "stdout",
          "text": [
            "Decision Tree - Mean Absolute Error (Test, scaled): 0.5860613150478378\n",
            "Random Forest - Mean Absolute Error (Test, scaled): 0.47328451115578096\n"
          ]
        }
      ]
    }
  ],
  "metadata": {
    "kernelspec": {
      "display_name": "Python 3",
      "language": "python",
      "name": "python3"
    },
    "language_info": {
      "codemirror_mode": {
        "name": "ipython",
        "version": 3
      },
      "file_extension": ".py",
      "mimetype": "text/x-python",
      "name": "python",
      "nbconvert_exporter": "python",
      "pygments_lexer": "ipython3",
      "version": "3.7.9"
    },
    "colab": {
      "provenance": [],
      "include_colab_link": true
    }
  },
  "nbformat": 4,
  "nbformat_minor": 0
}